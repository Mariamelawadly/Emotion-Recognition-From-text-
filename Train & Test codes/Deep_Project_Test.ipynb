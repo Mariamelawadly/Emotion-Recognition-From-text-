{
  "cells": [
    {
      "cell_type": "code",
      "execution_count": null,
      "metadata": {
        "colab": {
          "base_uri": "https://localhost:8080/"
        },
        "id": "cme4XrSecqX4",
        "outputId": "f5308f0d-4f3e-4b03-f060-3c7251f31801"
      },
      "outputs": [
        {
          "output_type": "stream",
          "name": "stdout",
          "text": [
            "Mounted at /content/drive\n"
          ]
        }
      ],
      "source": [
        "from google.colab import drive\n",
        "drive.mount('/content/drive')"
      ]
    },
    {
      "cell_type": "code",
      "source": [
        "cd /content/drive"
      ],
      "metadata": {
        "colab": {
          "base_uri": "https://localhost:8080/"
        },
        "id": "9TQ5Kt8H5_8N",
        "outputId": "5b573054-c7c7-41c4-d09f-5df8e95ffa52"
      },
      "execution_count": null,
      "outputs": [
        {
          "output_type": "stream",
          "name": "stdout",
          "text": [
            "/content/drive\n"
          ]
        }
      ]
    },
    {
      "cell_type": "code",
      "source": [
        "cd MyDrive/"
      ],
      "metadata": {
        "colab": {
          "base_uri": "https://localhost:8080/"
        },
        "id": "uFPxI4Ie6C8g",
        "outputId": "4186aa4b-742a-410c-bb07-ba43f83b1666"
      },
      "execution_count": null,
      "outputs": [
        {
          "output_type": "stream",
          "name": "stdout",
          "text": [
            "/content/drive/MyDrive\n"
          ]
        }
      ]
    },
    {
      "cell_type": "code",
      "source": [
        "cd Colab Notebooks/"
      ],
      "metadata": {
        "colab": {
          "base_uri": "https://localhost:8080/"
        },
        "id": "pEtn0fA06GDt",
        "outputId": "b6f7cd17-d176-4267-b8ac-db2deb717ee9"
      },
      "execution_count": null,
      "outputs": [
        {
          "output_type": "stream",
          "name": "stdout",
          "text": [
            "/content/drive/MyDrive/Colab Notebooks\n"
          ]
        }
      ]
    },
    {
      "cell_type": "code",
      "source": [
        "cd Deep Project/"
      ],
      "metadata": {
        "colab": {
          "base_uri": "https://localhost:8080/"
        },
        "id": "cw7bRsy26Jyw",
        "outputId": "09d66f5a-9b38-46ab-a26e-7dc16d554832"
      },
      "execution_count": null,
      "outputs": [
        {
          "output_type": "stream",
          "name": "stdout",
          "text": [
            "/content/drive/MyDrive/Colab Notebooks/Deep Project\n"
          ]
        }
      ]
    },
    {
      "cell_type": "code",
      "execution_count": null,
      "metadata": {
        "id": "FYfCc5vLcx7-",
        "colab": {
          "base_uri": "https://localhost:8080/"
        },
        "outputId": "18f4e218-a1cc-4cd0-dd0d-aa8d034331d9"
      },
      "outputs": [
        {
          "output_type": "stream",
          "name": "stdout",
          "text": [
            "/content/drive/MyDrive/Colab Notebooks/Deep Project/Emotion-Detection-RNN-master\n"
          ]
        }
      ],
      "source": [
        "cd Emotion-Detection-RNN-master/"
      ]
    },
    {
      "cell_type": "code",
      "source": [
        "ls"
      ],
      "metadata": {
        "colab": {
          "base_uri": "https://localhost:8080/"
        },
        "id": "fWYXBIWRlcu-",
        "outputId": "beed0142-97da-4647-efec-6a6eafbc7f0a"
      },
      "execution_count": null,
      "outputs": [
        {
          "output_type": "stream",
          "name": "stdout",
          "text": [
            "'classification_output (1).gsheet'\n",
            " classification_output.csv\n",
            " classification_output.gsheet\n",
            " configuration.cfg\n",
            " configuration.cfg.gdoc\n",
            " crawl-300d-2M.vec\n",
            " \u001b[0m\u001b[01;34mdata\u001b[0m/\n",
            " Demo.csv\n",
            " emoji_dataset.csv\n",
            " \u001b[01;34mGiven_trained_models\u001b[0m/\n",
            " handler.py\n",
            " handler-test.py\n",
            " model.png\n",
            " \u001b[01;34moldweights4layers\u001b[0m/\n",
            " README.md\n",
            " test_configuration.cfg\n",
            " \u001b[01;34mtrained_models\u001b[0m/\n",
            " \u001b[01;34mvectors\u001b[0m/\n",
            "'weights_best[fear]crawl-300d-2M-subword.h5'\n",
            "'weights_best[joy]crawl-300d-2M-subword.h5'\n",
            "'weights_best[love]crawl-300d-2M-subword.h5'\n",
            "'weights_best[surprise]crawl-300d-2M-subword.h5'\n",
            "'weights_best[thankfulness]crawl-300d-2M-subword.h5'\n",
            " WordsNotFound.txt\n"
          ]
        }
      ]
    },
    {
      "cell_type": "code",
      "source": [
        "import os\n",
        "import sys\n",
        "import getopt\n",
        "import gc\n",
        "import time\n",
        "import csv\n",
        "import numpy as np  # linear algebra\n",
        "import pandas as pd  # data processing, CSV file I/O (e.g. pd.read_csv)\n",
        "from tqdm import tqdm\n",
        "import math\n",
        "from sklearn.model_selection import train_test_split\n",
        "from sklearn import metrics\n",
        "import matplotlib.pyplot as plt\n",
        "\n",
        "import tensorflow as tf\n",
        "import os\n",
        "import time\n",
        "import gc\n",
        "import re\n",
        "import glob\n",
        "import configparser"
      ],
      "metadata": {
        "id": "WKptwrEYlsxv"
      },
      "execution_count": null,
      "outputs": []
    },
    {
      "cell_type": "code",
      "source": [
        "puncts = [',', '.', '\"', ':', ')', '(', '-', '!', '?', '|', ';', \"'\", '$', '&', '/', '[', ']', '>', '%', '=', '#', '*', '+', '\\\\', '•',  '~', '@', '£',\n",
        "          '·', '_', '{', '}', '©', '^', '®', '`',  '<', '→', '°', '€', '™', '›',  '♥', '←', '×', '§', '″', '′', 'Â', '█', '½', 'à', '…',\n",
        "          '“', '★', '”', '–', '●', 'â', '►', '−', '¢', '²', '¬', '░', '¶', '↑', '±', '¿', '▾', '═', '¦', '║', '―', '¥', '▓', '—', '‹', '─',\n",
        "          '▒', '：', '¼', '⊕', '▼', '▪', '†', '■', '’', '▀', '¨', '▄', '♫', '☆', 'é', '¯', '♦', '¤', '▲', 'è', '¸', '¾', 'Ã', '⋅', '‘', '∞',\n",
        "          '∙', '）', '↓', '、', '│', '（', '»', '，', '♪', '╩', '╚', '³', '・', '╦', '╣', '╔', '╗', '▬', '❤', 'ï', 'Ø', '¹', '≤', '‡', '√', ]\n",
        "\n",
        "\n",
        "config = configparser.RawConfigParser()\n",
        "try:\n",
        "    config.read('./test_configuration.cfg')\n",
        "except:\n",
        "    print(\"Couldn't read config file from ./test_configuration.cfg\")\n",
        "    exit()\n",
        "\n",
        "embedding_file = config.get('Params', 'vectorspace')\n",
        "token_dataset_File = config.get('Params', 'dataset')\n",
        "test_file = config.get('Params', 'test_file')\n",
        "traget_Emotion = config.get('Params', 'target_emotion')\n",
        "# max_features = int(config.get('Params', 'max_features'))\n",
        "maxlen = int(config.get('Params', 'maxlen'))\n",
        "batchsize = int(config.get('Params', 'batchsize'))\n",
        "num_epochs = int(config.get('Params', 'num_epochs'))\n",
        "embeddingSize = 300"
      ],
      "metadata": {
        "id": "Ghvpm_-3mV_p"
      },
      "execution_count": null,
      "outputs": []
    },
    {
      "cell_type": "code",
      "source": [
        "'''\n",
        "Seperates punctuations from words in given string x\n",
        "'''\n",
        "def clean_text(x):\n",
        "    x = str(x).strip()\n",
        "    for punct in puncts:\n",
        "        x = x.replace(punct, ' %s ' % punct)\n",
        "    x = x.replace(',', ' ')\n",
        "    x = x.replace('\\n', ' ')\n",
        "    x = x.lower()\n",
        "    text = re.sub(r\"( #\\S+)*$\", '', x)\n",
        "    return x\n",
        "\n",
        "\n",
        "    return text"
      ],
      "metadata": {
        "id": "oEvDY87wmbC1"
      },
      "execution_count": null,
      "outputs": []
    },
    {
      "cell_type": "code",
      "source": [
        "'''\n",
        "Prepares the original vocabulary\n",
        "'''\n",
        "def prepare_vocab(max_features, token_data):\n",
        "    tokens_text = token_data['text'].fillna(\"_##_\").values\n",
        "\n",
        "    tokenizer = tf.keras.preprocessing.text.Tokenizer(num_words=max_features)\n",
        "    tokenizer.fit_on_texts(list(tokens_text))\n",
        "\n",
        "\n",
        "    return tokenizer"
      ],
      "metadata": {
        "id": "zk2cOzSkmfmW"
      },
      "execution_count": null,
      "outputs": []
    },
    {
      "cell_type": "code",
      "source": [
        "'''\n",
        "prepares test data based on vocabulary of training data\n",
        "'''\n",
        "def prepare_test(test_dataset, tokenizer):\n",
        "    \n",
        "    ## cleans up the text and makes it lower case\n",
        "    test_dataset[\"text\"] = test_dataset[\"text\"].apply(lambda x: clean_text(x))\n",
        "\n",
        "    all_X = test_dataset['text'].fillna(\"_##_\").values\n",
        "\n",
        "\n",
        "    all_X = tokenizer.texts_to_sequences(all_X)\n",
        "    lengths = [len(l) for l in all_X]\n",
        "\n",
        "    all_X = tf.keras.preprocessing.sequence.pad_sequences(all_X, maxlen=maxlen)    \n",
        "\n",
        "    return all_X"
      ],
      "metadata": {
        "id": "IGYva1F1mjwm"
      },
      "execution_count": null,
      "outputs": []
    },
    {
      "cell_type": "code",
      "source": [
        "'''\n",
        "Create an embedding matrix in which we keep only the embeddings for words which are in our word_index\n",
        "'''\n",
        "def load_embedding(word_index, embedding_file, max_features):\n",
        "\n",
        "    def get_coefs(word, *arr): return word, np.asarray(arr, dtype='float32')\n",
        "    embeddings_index = dict(get_coefs(*o.split(\" \")) for o in open(embedding_file))\n",
        "    embed_size = len(embeddings_index[next(iter(embeddings_index))])\n",
        "\n",
        "    ## make sure all embeddings have the right format\n",
        "    key_to_del = []\n",
        "    for key, value in embeddings_index.items():\n",
        "        if not len(value) == embed_size:\n",
        "            key_to_del.append(key)\n",
        "\n",
        "    for key in key_to_del:\n",
        "        del embeddings_index[key]\n",
        "\n",
        "    notFountWords = []\n",
        "    all_embs = np.stack(embeddings_index.values())\n",
        "    emb_mean, emb_std = -0.005838499, 0.48782197\n",
        "    embed_size = all_embs.shape[1]\n",
        "    \n",
        "\n",
        "    nb_words = min(max_features, len(word_index))\n",
        "    embedding_matrix = np.random.normal(emb_mean, emb_std, (nb_words, embed_size))\n",
        "    count = 0\n",
        "    for word, i in word_index.items():\n",
        "        if i >= max_features:\n",
        "            continue\n",
        "        embedding_vector = embeddings_index.get(word)\n",
        "        if embedding_vector is not None:\n",
        "            embedding_matrix[i] = embedding_vector\n",
        "            count = count + 1\n",
        "        else:\n",
        "            notFountWords.append(word)\n",
        "\n",
        "    with open('WordsNotFound.txt', 'w') as f:\n",
        "        for item in notFountWords:\n",
        "            f.write(\"%s\\n\" % item)\n",
        "\n",
        "    return embedding_matrix, embed_size"
      ],
      "metadata": {
        "id": "ealIBwz1mmyT"
      },
      "execution_count": null,
      "outputs": []
    },
    {
      "cell_type": "code",
      "source": [
        "def model_gru(embedding_matrix, embed_size, max_features):\n",
        "\n",
        "    inp = tf.keras.layers.Input(shape=(maxlen,))\n",
        "    x = tf.keras.layers.Embedding(max_features, embed_size, weights=[embedding_matrix])(inp)\n",
        "    \n",
        "     # Add a Convolutional layer to extract features\n",
        "    x = tf.keras.layers.Conv1D(filters=32, kernel_size=3, padding='same', activation='relu')(x)#raga3 x mkana word embedding layer\n",
        "\n",
        "    x = tf.keras.layers.Bidirectional(tf.keras.layers.GRU(35, return_sequences=True))(x)\n",
        "    x = tf.keras.layers.Bidirectional(tf.keras.layers.GRU(35, return_sequences=True))(x)\n",
        "    x = tf.keras.layers.Bidirectional(tf.keras.layers.GRU(35, return_sequences=True))(x)\n",
        "\n",
        "    avg_pool = tf.keras.layers.GlobalAveragePooling1D()(x)\n",
        "    max_pool = tf.keras.layers.GlobalMaxPooling1D()(x)\n",
        "    conc = tf.keras.layers.concatenate([avg_pool, max_pool])\n",
        "    conc = tf.keras.layers.Dense(70, activation=\"relu\")(conc)\n",
        "\n",
        "    conc = tf.keras.layers.Dropout(0.5)(conc)\n",
        "    outp = tf.keras.layers.Dense(1, activation=\"sigmoid\")(conc)\n",
        "    model = tf.keras.models.Model(inputs=inp, outputs=outp)\n",
        "    model.compile(loss='binary_crossentropy', optimizer='adam', metrics=['accuracy'])\n",
        "    return model"
      ],
      "metadata": {
        "id": "XU2SzIpvmq7z"
      },
      "execution_count": null,
      "outputs": []
    },
    {
      "cell_type": "code",
      "source": [
        "'''\n",
        "This function computes the best F1 score by looking at predictions.\n",
        "'''\n",
        "def f1_smart(y_true, y_pred):\n",
        "    thresholds = []\n",
        "    for thresh in np.arange(0.1, 0.501, 0.01):\n",
        "        thresh = np.round(thresh, 2)\n",
        "        res = metrics.f1_score(y_true, (y_pred > thresh).astype(int))\n",
        "        thresholds.append([thresh, res])\n",
        "        print(\"F1 score at threshold {0} is {1}\".format(thresh, res))\n",
        "\n",
        "    thresholds.sort(key=lambda x: x[1], reverse=True)\n",
        "    best_thresh = thresholds[0][0]\n",
        "    best_f1 = thresholds[0][1]\n",
        "    print(\"Best threshold: \", best_thresh)\n",
        "    return best_f1, "
      ],
      "metadata": {
        "id": "yu8L71WWmujI"
      },
      "execution_count": null,
      "outputs": []
    },
    {
      "cell_type": "code",
      "source": [
        "# load all models and get the results for each\n",
        "joy_weightFile = 'trained_models/weights_best[joy]crawl-300d-2M-subword.h5'\n",
        "sadness_weightFile = 'trained_models/weights_best[sadness]crawl-300d-2M-subword.h5'\n",
        "anger_weightFile = 'trained_models/weights_best[anger]crawl-300d-2M-subword.h5'\n",
        "love_weightFile = 'trained_models/weights_best[love]crawl-300d-2M-subword.h5'\n",
        "thankfulness_weightFile = 'trained_models/weights_best[thankfulness]crawl-300d-2M-subword.h5'\n",
        "fear_weightFile = 'trained_models/weights_best[fear]crawl-300d-2M-subword.h5'\n",
        "surprise_weightFile = 'trained_models/weights_best[surprise]crawl-300d-2M-subword.h5'\n",
        "\n",
        "print('>>>>>>>>>>> reading files ...')\n",
        "test_dataset = pd.read_csv(test_file)\n",
        "token_data = pd.read_csv(token_dataset_File)\n",
        "\n",
        "print('>>>>>>>>>>> preparing data ...')\n",
        "\n",
        "tknzr_100k = prepare_vocab(3497, token_data)\n",
        "tknzr_50k = prepare_vocab(582, token_data)\n",
        "#tknzr_25k = prepare_vocab(2500, token_data)"
      ],
      "metadata": {
        "id": "7qFPYnlUmwFE",
        "colab": {
          "base_uri": "https://localhost:8080/"
        },
        "outputId": "9de83a95-23c1-4b15-f120-bbccf533d29e"
      },
      "execution_count": null,
      "outputs": [
        {
          "output_type": "stream",
          "name": "stdout",
          "text": [
            ">>>>>>>>>>> reading files ...\n",
            ">>>>>>>>>>> preparing data ...\n"
          ]
        }
      ]
    },
    {
      "cell_type": "code",
      "source": [
        "print(pd.read_csv(token_dataset_File))"
      ],
      "metadata": {
        "id": "soMwRtkNnqF_",
        "colab": {
          "base_uri": "https://localhost:8080/"
        },
        "outputId": "3568d4ee-659e-4617-8896-01ebf9f35ddf"
      },
      "execution_count": null,
      "outputs": [
        {
          "output_type": "stream",
          "name": "stdout",
          "text": [
            "                          id  \\\n",
            "0       [149569891127660544]   \n",
            "1       [144547020391194624]   \n",
            "2       [138662274389901312]   \n",
            "3       [148577813379825664]   \n",
            "4       [148973134249332737]   \n",
            "...                      ...   \n",
            "124490  [147882763813519360]   \n",
            "124491  [146469053408616448]   \n",
            "124492  [139458576795172864]   \n",
            "124493  [143400146410016769]   \n",
            "124494  [144172617165840384]   \n",
            "\n",
            "                                                     text          emotion  \n",
            "0       [t-minus 10 minutes until interview timeeeee. ...          [fear]   \n",
            "1       [It doesnt really make sense that the Big EAST...       [sadness]   \n",
            "2       [&i was praying that you&me might end up toget...          [love]   \n",
            "3       [A little attitude problem all good itll make ...          [love]   \n",
            "4              [I think I miss my boyfriend.. :( #lonely]       [sadness]   \n",
            "...                                                   ...              ...  \n",
            "124490  [Me and Naiya are staying the night with my si...           [joy]   \n",
            "124491                  [God is good. #blessed #thankful]  [thankfulness]   \n",
            "124492  [Hate the feeling when youve done everything, ...         [anger]   \n",
            "124493  [Wanna send a big shout out to everyone that l...          [love]   \n",
            "124494  [This last english paper is going too be the d...          [anger]  \n",
            "\n",
            "[124495 rows x 3 columns]\n"
          ]
        }
      ]
    },
    {
      "cell_type": "code",
      "source": [
        "print('>>>>>>>>>>> preparing the models ...')\n",
        "embedding_matrix_100k, embedding_size = load_embedding(tknzr_100k.word_index, embedding_file, 3497)\n",
        "\n",
        "model_joy = model_gru(embedding_matrix_100k, embeddingSize, 3497) #kanet 10000 8856\n",
        "\n",
        "model_sadness = model_gru(embedding_matrix_100k, embeddingSize, 3497)\n",
        "\n",
        "model_anger = model_gru(embedding_matrix_100k, embeddingSize, 3497)\n",
        "\n",
        "model_love = model_gru(embedding_matrix_100k, embeddingSize, 3497)\n",
        "\n",
        "\n",
        "embedding_matrix_50k, embedding_size = load_embedding(tknzr_50k.word_index, embedding_file,582)\n",
        "\n",
        "model_thankfulness = model_gru(embedding_matrix_50k, embeddingSize, 582)\n",
        "\n",
        "model_fear = model_gru(embedding_matrix_50k, embeddingSize, 582)\n",
        "model_surprise = model_gru(embedding_matrix_50k, embeddingSize, 582)\n",
        "\n",
        "#model_sadness = model_gru(embedding_matrix_50k, embeddingSize, 582)\n",
        "#model_anger = model_gru(embedding_matrix_50k, embeddingSize, 582)\n",
        "\n",
        "\n",
        "\n",
        "#embedding_matrix_25k, embedding_size = load_embedding(tknzr_25k.word_index, embedding_file,2500)\n",
        "\n",
        "#model_surprise = model_gru(embedding_matrix_25k, embeddingSize, 2500)\n"
      ],
      "metadata": {
        "id": "Gqgy6iMEm0QH",
        "colab": {
          "base_uri": "https://localhost:8080/"
        },
        "outputId": "f0b2fa59-eb22-40f8-8e92-5d8e9dbacc56"
      },
      "execution_count": null,
      "outputs": [
        {
          "output_type": "stream",
          "name": "stdout",
          "text": [
            ">>>>>>>>>>> preparing the models ...\n"
          ]
        },
        {
          "output_type": "stream",
          "name": "stderr",
          "text": [
            "/usr/local/lib/python3.10/dist-packages/IPython/core/interactiveshell.py:3553: FutureWarning: arrays to stack must be passed as a \"sequence\" type such as list or tuple. Support for non-sequence iterables such as generators is deprecated as of NumPy 1.16 and will raise an error in the future.\n",
            "  exec(code_obj, self.user_global_ns, self.user_ns)\n"
          ]
        }
      ]
    },
    {
      "cell_type": "code",
      "source": [
        "print('>>>>>>>>>>> loading models ...')\n",
        "\n",
        "model_joy.load_weights(joy_weightFile)\n",
        "model_sadness.load_weights(sadness_weightFile)\n",
        "model_anger.load_weights(anger_weightFile)\n",
        "model_love.load_weights(love_weightFile)\n",
        "model_thankfulness.load_weights(thankfulness_weightFile)\n",
        "model_fear.load_weights(fear_weightFile)\n",
        "model_surprise.load_weights(surprise_weightFile)"
      ],
      "metadata": {
        "id": "-TqiF0V8m4IA",
        "colab": {
          "base_uri": "https://localhost:8080/"
        },
        "outputId": "d25daec8-89bf-4231-f7be-0ebcf6f9ed43"
      },
      "execution_count": null,
      "outputs": [
        {
          "output_type": "stream",
          "name": "stdout",
          "text": [
            ">>>>>>>>>>> loading models ...\n"
          ]
        }
      ]
    },
    {
      "cell_type": "code",
      "source": [
        "print('>>>>>>>>>>> generating predictions ...')\n",
        "\n",
        "test_X_100k  = prepare_test(test_dataset, tknzr_100k)\n",
        "test_X_50k  = prepare_test(test_dataset, tknzr_50k)\n",
        "#test_X_25k = prepare_test(test_dataset, tknzr_25k)\n",
        "\n",
        "test_dataset_list = test_dataset.values.tolist()\n",
        "test_dataset_list = [j for sub in test_dataset_list for j in sub]\n",
        "\n",
        "\n",
        "pred_joy_y = model_joy.predict([test_X_100k], batch_size=1024, verbose=0)\n",
        "joy_preds = pred_joy_y.tolist()\n",
        "joy_preds =[j for sub in joy_preds for j in sub]\n",
        "\n",
        "pred_sadness_y = model_sadness.predict([test_X_50k], batch_size=1024, verbose=0)\n",
        "sadness_preds = pred_sadness_y.tolist()\n",
        "sadness_preds =[j for sub in sadness_preds for j in sub]\n",
        "\n",
        "pred_anger_y = model_anger.predict([test_X_50k], batch_size=1024, verbose=0)\n",
        "anger_preds = pred_anger_y.tolist()\n",
        "anger_preds =[j for sub in anger_preds for j in sub]\n",
        "\n",
        "pred_love_y = model_love.predict([test_X_100k], batch_size=1024, verbose=0)\n",
        "love_preds = pred_love_y.tolist()\n",
        "love_preds =[j for sub in love_preds for j in sub]\n",
        "\n",
        "pred_thankfulness_y = model_thankfulness.predict([test_X_50k], batch_size=1024, verbose=0)\n",
        "thankfulness_preds = pred_thankfulness_y.tolist()\n",
        "thankfulness_preds =[j for sub in thankfulness_preds for j in sub]\n",
        "\n",
        "\n",
        "pred_fear_y = model_fear.predict([test_X_50k], batch_size=1024, verbose=0)\n",
        "fear_preds = pred_fear_y.tolist()\n",
        "fear_preds =[j for sub in fear_preds for j in sub]\n",
        "\n",
        "pred_surprise_y = model_surprise.predict([test_X_50k], batch_size=1024, verbose=0)\n",
        "surprise_preds = pred_surprise_y.tolist()\n",
        "surprise_preds =[j for sub in surprise_preds for j in sub]\n",
        "\n",
        "print('################')\n",
        "\n",
        "\n",
        "resultsdict = {'text': test_dataset_list, 'joy': joy_preds, 'sadness': sadness_preds, 'anger': anger_preds, 'love': love_preds, 'thankfulness': thankfulness_preds, 'fear': fear_preds, 'surprise': surprise_preds }\n",
        "results_df = pd.DataFrame(resultsdict)\n",
        "print(results_df)\n",
        "results_df.to_csv('classification_output.csv', float_format='%.3f', index=False)"
      ],
      "metadata": {
        "id": "bVQTp_QTm6i_",
        "colab": {
          "base_uri": "https://localhost:8080/"
        },
        "outputId": "f836cbe6-f8e4-4530-ecba-0070525ac819"
      },
      "execution_count": null,
      "outputs": [
        {
          "output_type": "stream",
          "name": "stdout",
          "text": [
            ">>>>>>>>>>> generating predictions ...\n"
          ]
        },
        {
          "output_type": "stream",
          "name": "stderr",
          "text": [
            "WARNING:tensorflow:5 out of the last 5 calls to <function Model.make_predict_function.<locals>.predict_function at 0x7f063fa19000> triggered tf.function retracing. Tracing is expensive and the excessive number of tracings could be due to (1) creating @tf.function repeatedly in a loop, (2) passing tensors with different shapes, (3) passing Python objects instead of tensors. For (1), please define your @tf.function outside of the loop. For (2), @tf.function has reduce_retracing=True option that can avoid unnecessary retracing. For (3), please refer to https://www.tensorflow.org/guide/function#controlling_retracing and https://www.tensorflow.org/api_docs/python/tf/function for  more details.\n",
            "WARNING:tensorflow:6 out of the last 6 calls to <function Model.make_predict_function.<locals>.predict_function at 0x7f06446f9b40> triggered tf.function retracing. Tracing is expensive and the excessive number of tracings could be due to (1) creating @tf.function repeatedly in a loop, (2) passing tensors with different shapes, (3) passing Python objects instead of tensors. For (1), please define your @tf.function outside of the loop. For (2), @tf.function has reduce_retracing=True option that can avoid unnecessary retracing. For (3), please refer to https://www.tensorflow.org/guide/function#controlling_retracing and https://www.tensorflow.org/api_docs/python/tf/function for  more details.\n"
          ]
        },
        {
          "output_type": "stream",
          "name": "stdout",
          "text": [
            "################\n",
            "                                                 text       joy   sadness  \\\n",
            "0   t  -  minus 10 minutes until interview timeeee...  0.026962  0.252706   \n",
            "1   it doesn  '  t really make sense that the big ...  0.690989  0.054998   \n",
            "2    &  i was praying that you  &  me might end up...  0.076362  0.844532   \n",
            "3   a little attitude problem all good it  '  ll m...  0.091173  0.055303   \n",
            "4     i think i miss my boyfriend  .    .     :    (   0.480474  0.076582   \n",
            "5   had a good night   :    '    )     @  teeeelouise  0.074706  0.859508   \n",
            "6                forgot the world revolved around you  0.091452  0.080762   \n",
            "7   i love you my god  !   i  '  m so proud of you...  0.150301  0.856842   \n",
            "8    @  themik  _  chaelas im always excited espec...  0.535348  0.013066   \n",
            "9    @  onsmith92   @  sarah  _  marinara miss bot...  0.146911  0.035502   \n",
            "10  shoutout to everybody tell me   #  happybday t...  0.025662  0.024135   \n",
            "11  can already tell these people are going to dri...  0.107287  0.018041   \n",
            "12      @  leenadalmartin how is the tennis going  ?   0.123964  0.180911   \n",
            "13                          field trip  =   no school  0.172138  0.384731   \n",
            "\n",
            "       anger      love  thankfulness      fear  surprise  \n",
            "0   0.012699  0.019315      0.003253  0.831371  0.516598  \n",
            "1   0.010608  0.035907      0.002607  0.050036  0.513904  \n",
            "2   0.190637  0.366452      0.950209  0.794619  0.515818  \n",
            "3   0.580320  0.019286      0.004474  0.988993  0.517973  \n",
            "4   0.018995  0.978320      0.986252  0.772655  0.518439  \n",
            "5   0.015411  0.016362      0.001260  0.327607  0.518687  \n",
            "6   0.010880  0.016949      0.003105  0.021587  0.517321  \n",
            "7   0.807141  0.945029      0.979632  0.980905  0.507695  \n",
            "8   0.526370  0.016489      0.000934  0.008330  0.517780  \n",
            "9   0.022002  0.028832      0.004689  0.964258  0.515397  \n",
            "10  0.098504  0.020230      0.002139  0.053695  0.517365  \n",
            "11  0.760836  0.024368      0.016085  0.161077  0.513953  \n",
            "12  0.008154  0.015523      0.018027  0.017499  0.517062  \n",
            "13  0.319573  0.042689      0.001330  0.233055  0.517399  \n"
          ]
        }
      ]
    }
  ],
  "metadata": {
    "colab": {
      "provenance": [],
      "gpuType": "T4"
    },
    "kernelspec": {
      "display_name": "Python 3",
      "name": "python3"
    },
    "language_info": {
      "name": "python"
    },
    "accelerator": "GPU",
    "gpuClass": "standard"
  },
  "nbformat": 4,
  "nbformat_minor": 0
}